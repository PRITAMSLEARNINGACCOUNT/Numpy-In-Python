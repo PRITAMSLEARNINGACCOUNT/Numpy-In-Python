{
 "cells": [
  {
   "cell_type": "code",
   "execution_count": 1,
   "id": "da3074b5",
   "metadata": {},
   "outputs": [],
   "source": [
    "import numpy as np"
   ]
  },
  {
   "cell_type": "code",
   "execution_count": 2,
   "id": "aa76c927",
   "metadata": {},
   "outputs": [
    {
     "name": "stdout",
     "output_type": "stream",
     "text": [
      "So this is your one dimensional array  [ 1  5  9 30]\n"
     ]
    }
   ],
   "source": [
    "list=[1,5,9,30]\n",
    "one_Dimensional_array=np.array(list)\n",
    "print(\"So this is your one dimensional array \",one_Dimensional_array)"
   ]
  },
  {
   "cell_type": "code",
   "execution_count": 5,
   "id": "c809e983",
   "metadata": {},
   "outputs": [
    {
     "name": "stdout",
     "output_type": "stream",
     "text": [
      "The maximum value from your array is placed on 3 Index.\n"
     ]
    }
   ],
   "source": [
    "print(f\"The maximum value from your array is placed on {one_Dimensional_array.argmax()} Index.\")"
   ]
  },
  {
   "cell_type": "code",
   "execution_count": 6,
   "id": "19471b9f",
   "metadata": {},
   "outputs": [
    {
     "name": "stdout",
     "output_type": "stream",
     "text": [
      "The minimum value from your array is placed on 0 Index.\n"
     ]
    }
   ],
   "source": [
    "print(f\"The minimum value from your array is placed on {one_Dimensional_array.argmin()} Index.\")"
   ]
  },
  {
   "cell_type": "code",
   "execution_count": 9,
   "id": "ec7ee895",
   "metadata": {},
   "outputs": [
    {
     "name": "stdout",
     "output_type": "stream",
     "text": [
      "So this is two dimensional array which is more of a matrices with rows and columns\n",
      "[[ 1  2  5]\n",
      " [ 5  6  9]\n",
      " [87 20  6]]\n"
     ]
    }
   ],
   "source": [
    "Two_dimensional_list=[[1,2,5],[5,6,9],[87,20,6]]\n",
    "Two_dimensional_array=np.array(Two_dimensional_list)\n",
    "print(\"So this is two dimensional array which is more of a matrices with rows and columns\")\n",
    "print(Two_dimensional_array)"
   ]
  },
  {
   "cell_type": "code",
   "execution_count": 11,
   "id": "c6d35e8c",
   "metadata": {},
   "outputs": [
    {
     "name": "stdout",
     "output_type": "stream",
     "text": [
      "So the maximum value from your two dimensional array is placed on 6 index\n"
     ]
    }
   ],
   "source": [
    "print(f\"So the maximum value from your two dimensional array is placed on {Two_dimensional_array.argmax()} index\")"
   ]
  },
  {
   "cell_type": "code",
   "execution_count": 12,
   "id": "ba845d99",
   "metadata": {},
   "outputs": [
    {
     "name": "stdout",
     "output_type": "stream",
     "text": [
      "So the minimum value from your two dimensional array is placed on 0 index\n"
     ]
    }
   ],
   "source": [
    "print(f\"So the minimum value from your two dimensional array is placed on {Two_dimensional_array.argmin()} index\")"
   ]
  },
  {
   "cell_type": "code",
   "execution_count": 15,
   "id": "d9a2ab8e",
   "metadata": {},
   "outputs": [
    {
     "name": "stdout",
     "output_type": "stream",
     "text": [
      "Your matrices should be written in this order\n",
      "[[0 1 2]\n",
      " [0 1 2]\n",
      " [2 1 0]]\n"
     ]
    }
   ],
   "source": [
    "print(\"Your matrices should be written in this order\")\n",
    "print(Two_dimensional_array.argsort())"
   ]
  },
  {
   "cell_type": "code",
   "execution_count": 16,
   "id": "dd3b3063",
   "metadata": {},
   "outputs": [
    {
     "name": "stdout",
     "output_type": "stream",
     "text": [
      "[[0 0 0]\n",
      " [1 1 2]\n",
      " [2 2 1]]\n"
     ]
    }
   ],
   "source": [
    "print(\"The Rows Of Your matrices should be written in this order\")\n",
    "print(Two_dimensional_array.argsort(axis=0))"
   ]
  },
  {
   "cell_type": "code",
   "execution_count": 19,
   "id": "79dac12a",
   "metadata": {},
   "outputs": [
    {
     "name": "stdout",
     "output_type": "stream",
     "text": [
      "The columns Of Your matrices should be written in this order\n",
      "[[0 1 2]\n",
      " [0 1 2]\n",
      " [2 1 0]]\n"
     ]
    }
   ],
   "source": [
    "print(\"The columns Of Your matrices should be written in this order\")\n",
    "print(Two_dimensional_array.argsort(axis=1))"
   ]
  },
  {
   "cell_type": "code",
   "execution_count": 21,
   "id": "3ab8a5ae",
   "metadata": {},
   "outputs": [
    {
     "data": {
      "text/plain": [
       "array([0, 1, 2, 0, 1, 2, 2, 1, 0], dtype=int64)"
      ]
     },
     "execution_count": 21,
     "metadata": {},
     "output_type": "execute_result"
    }
   ],
   "source": [
    "sorted_array=Two_dimensional_array.argsort()\n",
    "sorted_array.ravel()"
   ]
  },
  {
   "cell_type": "code",
   "execution_count": null,
   "id": "2a2abef2",
   "metadata": {},
   "outputs": [],
   "source": []
  }
 ],
 "metadata": {
  "kernelspec": {
   "display_name": "Python 3 (ipykernel)",
   "language": "python",
   "name": "python3"
  },
  "language_info": {
   "codemirror_mode": {
    "name": "ipython",
    "version": 3
   },
   "file_extension": ".py",
   "mimetype": "text/x-python",
   "name": "python",
   "nbconvert_exporter": "python",
   "pygments_lexer": "ipython3",
   "version": "3.11.2"
  }
 },
 "nbformat": 4,
 "nbformat_minor": 5
}

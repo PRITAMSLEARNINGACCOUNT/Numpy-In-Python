{
 "cells": [
  {
   "cell_type": "code",
   "execution_count": 1,
   "metadata": {},
   "outputs": [],
   "source": [
    "import numpy as np"
   ]
  },
  {
   "cell_type": "code",
   "execution_count": 2,
   "id": "199b9e84",
   "metadata": {},
   "outputs": [
    {
     "name": "stdout",
     "output_type": "stream",
     "text": [
      "This is your first matrix\n",
      "[[ 1  2  6]\n",
      " [ 6  9 20]\n",
      " [65 55 20]]\n"
     ]
    }
   ],
   "source": [
    "two_dimensional_array=[[1,2,6],[6,9,20],[65,55,20]]\n",
    "matrix_1=np.array(two_dimensional_array)\n",
    "print(\"This is your first matrix\")\n",
    "print(matrix_1)"
   ]
  },
  {
   "cell_type": "code",
   "execution_count": 3,
   "id": "46388844",
   "metadata": {},
   "outputs": [
    {
     "name": "stdout",
     "output_type": "stream",
     "text": [
      "This is your second matrix which is same as the first one\n",
      "[[ 1  2  6]\n",
      " [ 6  9 20]\n",
      " [65 55 20]]\n"
     ]
    }
   ],
   "source": [
    "matrix_2=np.array(two_dimensional_array)\n",
    "print(\"This is your second matrix which is same as the first one\")\n",
    "print(matrix_2)"
   ]
  },
  {
   "cell_type": "code",
   "execution_count": 4,
   "id": "16d37a56",
   "metadata": {},
   "outputs": [
    {
     "name": "stdout",
     "output_type": "stream",
     "text": [
      "And now it's time for addition of two matrcies and the result of the addition of two matrix is \n",
      "[[  2   4  12]\n",
      " [ 12  18  40]\n",
      " [130 110  40]]\n"
     ]
    }
   ],
   "source": [
    "print(\"And now it's time for addition of two matrcies and the result of the addition of two matrix is \")\n",
    "print(matrix_1+matrix_2)"
   ]
  },
  {
   "cell_type": "code",
   "execution_count": 5,
   "id": "741982fd",
   "metadata": {},
   "outputs": [
    {
     "name": "stdout",
     "output_type": "stream",
     "text": [
      "And now it's time for multiplication of two matrcies and the result of the multiplication of two matrix is \n",
      "[[   1    4   36]\n",
      " [  36   81  400]\n",
      " [4225 3025  400]]\n"
     ]
    }
   ],
   "source": [
    "print(\"And now it's time for multiplication of two matrcies and the result of the multiplication of two matrix is \")\n",
    "print(matrix_1*matrix_2)"
   ]
  },
  {
   "cell_type": "code",
   "execution_count": 7,
   "id": "5bc17718",
   "metadata": {},
   "outputs": [
    {
     "name": "stdout",
     "output_type": "stream",
     "text": [
      "Now the square root of every element of your first matrix is \n",
      "[[1.         1.41421356 2.44948974]\n",
      " [2.44948974 3.         4.47213595]\n",
      " [8.06225775 7.41619849 4.47213595]]\n"
     ]
    }
   ],
   "source": [
    "print(\"Now the square root of every element of your first matrix is \")\n",
    "print(np.sqrt(matrix_1))"
   ]
  },
  {
   "cell_type": "code",
   "execution_count": 8,
   "id": "62a68948",
   "metadata": {},
   "outputs": [
    {
     "name": "stdout",
     "output_type": "stream",
     "text": [
      "And the square root of every element of your Second matrix is \n",
      "[[1.         1.41421356 2.44948974]\n",
      " [2.44948974 3.         4.47213595]\n",
      " [8.06225775 7.41619849 4.47213595]]\n"
     ]
    }
   ],
   "source": [
    "print(\"And the square root of every element of your Second matrix is \")\n",
    "print(np.sqrt(matrix_2))"
   ]
  },
  {
   "cell_type": "code",
   "execution_count": 9,
   "id": "75752b22",
   "metadata": {},
   "outputs": [
    {
     "name": "stdout",
     "output_type": "stream",
     "text": [
      "The summation of every element of your matrix is 184\n"
     ]
    }
   ],
   "source": [
    "print(f\"The summation of every element of your first matrix is {np.sum(matrix_1)}\")"
   ]
  },
  {
   "cell_type": "code",
   "execution_count": 12,
   "id": "d095065c",
   "metadata": {},
   "outputs": [
    {
     "name": "stdout",
     "output_type": "stream",
     "text": [
      "The summation of every element of your second matrix is 184\n"
     ]
    }
   ],
   "source": [
    "print(f\"The summation of every element of your second matrix is {np.sum(matrix_2)}\")"
   ]
  },
  {
   "cell_type": "code",
   "execution_count": 13,
   "id": "eddbfaac",
   "metadata": {},
   "outputs": [
    {
     "name": "stdout",
     "output_type": "stream",
     "text": [
      "The minimum Value from your first matrix is 1\n"
     ]
    }
   ],
   "source": [
    "print(f\"The minimum Value from your first matrix is {matrix_1.min()}\")"
   ]
  },
  {
   "cell_type": "code",
   "execution_count": 14,
   "id": "b1e930a9",
   "metadata": {},
   "outputs": [
    {
     "name": "stdout",
     "output_type": "stream",
     "text": [
      "And The minimum Value from your second matrix is 1\n"
     ]
    }
   ],
   "source": [
    "print(f\"And The minimum Value from your second matrix is {matrix_2.min()}\")"
   ]
  },
  {
   "cell_type": "code",
   "execution_count": null,
   "id": "bec9e04d",
   "metadata": {},
   "outputs": [],
   "source": []
  }
 ],
 "metadata": {
  "kernelspec": {
   "display_name": "Python 3",
   "language": "python",
   "name": "python3"
  },
  "language_info": {
   "codemirror_mode": {
    "name": "ipython",
    "version": 3
   },
   "file_extension": ".py",
   "mimetype": "text/x-python",
   "name": "python",
   "nbconvert_exporter": "python",
   "pygments_lexer": "ipython3",
   "version": "3.11.2"
  }
 },
 "nbformat": 4,
 "nbformat_minor": 5
}

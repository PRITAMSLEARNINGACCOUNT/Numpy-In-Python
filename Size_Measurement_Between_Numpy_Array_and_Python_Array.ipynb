{
 "cells": [
  {
   "cell_type": "code",
   "execution_count": 1,
   "metadata": {},
   "outputs": [],
   "source": [
    "import numpy as np\n",
    "import sys"
   ]
  },
  {
   "cell_type": "code",
   "execution_count": 2,
   "id": "8b1d0ed0",
   "metadata": {},
   "outputs": [
    {
     "name": "stdout",
     "output_type": "stream",
     "text": [
      "So this is the size of Python array  84\n"
     ]
    }
   ],
   "source": [
    "One_dimensional_array=[4,5,6]\n",
    "numpy_array=np.array(One_dimensional_array)\n",
    "print(\"So this is the size of Python array \",sys.getsizeof(1)*len(One_dimensional_array))"
   ]
  },
  {
   "cell_type": "code",
   "execution_count": 3,
   "id": "0f963884",
   "metadata": {},
   "outputs": [
    {
     "name": "stdout",
     "output_type": "stream",
     "text": [
      "So the size of numpy array is  12\n"
     ]
    }
   ],
   "source": [
    "print(\"So the size of numpy array is \",numpy_array.itemsize*numpy_array.size)"
   ]
  },
  {
   "cell_type": "code",
   "execution_count": null,
   "id": "e3df1f56",
   "metadata": {},
   "outputs": [],
   "source": []
  }
 ],
 "metadata": {
  "kernelspec": {
   "display_name": "Python 3",
   "language": "python",
   "name": "python3"
  },
  "language_info": {
   "codemirror_mode": {
    "name": "ipython",
    "version": 3
   },
   "file_extension": ".py",
   "mimetype": "text/x-python",
   "name": "python",
   "nbconvert_exporter": "python",
   "pygments_lexer": "ipython3",
   "version": "3.11.2"
  }
 },
 "nbformat": 4,
 "nbformat_minor": 5
}

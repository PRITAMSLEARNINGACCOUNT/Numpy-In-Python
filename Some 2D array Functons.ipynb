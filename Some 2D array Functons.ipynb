{
 "cells": [
  {
   "cell_type": "code",
   "execution_count": 1,
   "metadata": {},
   "outputs": [],
   "source": [
    "import numpy as np"
   ]
  },
  {
   "cell_type": "code",
   "execution_count": 2,
   "id": "aa76c927",
   "metadata": {},
   "outputs": [],
   "source": [
    "x=[[1,2,3],[9,66,54],[54,6,20]]\n",
    "numpy_array=np.array(x)"
   ]
  },
  {
   "cell_type": "code",
   "execution_count": 23,
   "id": "c809e983",
   "metadata": {},
   "outputs": [
    {
     "name": "stdout",
     "output_type": "stream",
     "text": [
      "So the 2D array is\n",
      "[[ 1  2  3]\n",
      " [ 9 66 54]\n",
      " [54  6 20]]\n"
     ]
    }
   ],
   "source": [
    "print(\"So the 2D array is\")\n",
    "print(numpy_array)"
   ]
  },
  {
   "cell_type": "code",
   "execution_count": 22,
   "id": "19471b9f",
   "metadata": {},
   "outputs": [
    {
     "name": "stdout",
     "output_type": "stream",
     "text": [
      "So the sum of column is\n",
      "[  6 129  80]\n"
     ]
    }
   ],
   "source": [
    "print(\"So the sum of column is\")\n",
    "print(numpy_array.sum(axis=1))"
   ]
  },
  {
   "cell_type": "code",
   "execution_count": 21,
   "id": "7f79008b",
   "metadata": {},
   "outputs": [
    {
     "name": "stdout",
     "output_type": "stream",
     "text": [
      "So the sum of rows is\n",
      "[64 74 77]\n"
     ]
    }
   ],
   "source": [
    "\n",
    "print(\"So the sum of rows is\")\n",
    "print(numpy_array.sum(axis=0))"
   ]
  },
  {
   "cell_type": "code",
   "execution_count": 17,
   "id": "1ce7360a",
   "metadata": {},
   "outputs": [
    {
     "name": "stdout",
     "output_type": "stream",
     "text": [
      "So the transpose of your numpy array is \n",
      "[[ 1  9 54]\n",
      " [ 2 66  6]\n",
      " [ 3 54 20]]\n"
     ]
    }
   ],
   "source": [
    "print(\"So the transpose of your numpy array is\")\n",
    "print(numpy_array.T)"
   ]
  },
  {
   "cell_type": "code",
   "execution_count": 14,
   "id": "1fde7d24",
   "metadata": {},
   "outputs": [
    {
     "name": "stdout",
     "output_type": "stream",
     "text": [
      "So your array is a 2D array\n"
     ]
    }
   ],
   "source": [
    "\n",
    "print(f\"So your array is a {numpy_array.ndim}D array\",)"
   ]
  },
  {
   "cell_type": "code",
   "execution_count": 13,
   "id": "c824c2df",
   "metadata": {},
   "outputs": [
    {
     "name": "stdout",
     "output_type": "stream",
     "text": [
      "So every element of your 2D array is \n",
      "1\n",
      "2\n",
      "3\n",
      "9\n",
      "66\n",
      "54\n",
      "54\n",
      "6\n",
      "20\n"
     ]
    }
   ],
   "source": [
    "print(\"So every element of your 2D array is \")\n",
    "for element in numpy_array.flat:\n",
    "    print(element)"
   ]
  },
  {
   "cell_type": "code",
   "execution_count": 11,
   "id": "1dc04880",
   "metadata": {},
   "outputs": [
    {
     "name": "stdout",
     "output_type": "stream",
     "text": [
      "So the bytes consumed in the 2D array you created is  36\n"
     ]
    }
   ],
   "source": [
    "print(\"So the bytes consumed in the 2D array you created is \",numpy_array.nbytes)"
   ]
  },
  {
   "cell_type": "code",
   "execution_count": null,
   "id": "c991a8e7",
   "metadata": {},
   "outputs": [],
   "source": []
  }
 ],
 "metadata": {
  "kernelspec": {
   "display_name": "Python 3",
   "language": "python",
   "name": "python3"
  },
  "language_info": {
   "codemirror_mode": {
    "name": "ipython",
    "version": 3
   },
   "file_extension": ".py",
   "mimetype": "text/x-python",
   "name": "python",
   "nbconvert_exporter": "python",
   "pygments_lexer": "ipython3",
   "version": "3.11.2"
  }
 },
 "nbformat": 4,
 "nbformat_minor": 5
}
